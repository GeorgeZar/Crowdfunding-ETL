{
 "cells": [
  {
   "cell_type": "code",
   "execution_count": null,
   "id": "2b3493d6",
   "metadata": {},
   "outputs": [],
   "source": [
    "import glob\n",
    "\n",
    "import pandas as pd\n",
    "\n",
    "import xml.etree.ElementTree as ET"
   ]
  },
  {
   "cell_type": "code",
   "execution_count": null,
   "id": "f3668734",
   "metadata": {},
   "outputs": [],
   "source": [
    "rom datetime import datetime\n",
    "\n",
    "def extract_from_csv(file_to_process):\n",
    "\n",
    "    dataframe = pd.read_csv('backer_info (1).csv')\n",
    "\n",
    "    return dataframe"
   ]
  },
  {
   "cell_type": "code",
   "execution_count": null,
   "id": "02c64422",
   "metadata": {},
   "outputs": [],
   "source": [
    "ef extract_from_json(file_to_process):\n",
    "\n",
    "    dataframe = pd.read_json(file_to_process,lines=True)\n",
    "\n",
    "    return dataframe"
   ]
  },
  {
   "cell_type": "code",
   "execution_count": null,
   "id": "2620d765",
   "metadata": {},
   "outputs": [],
   "source": [
    "def extract_from_xml(file_to_process):\n",
    "\n",
    "\n",
    "\n",
    "    dataframe = pd.DataFrame(columns=['car_model','year_of_manufacture','price', 'fuel'])\n",
    "\n",
    "\n",
    "\n",
    "    tree = ET.parse(file_to_process)\n",
    "\n",
    "\n",
    "\n",
    "    root = tree.getroot()"
   ]
  },
  {
   "cell_type": "code",
   "execution_count": null,
   "id": "e72dc618",
   "metadata": {},
   "outputs": [],
   "source": [
    "for person in root:\n",
    "\n",
    "\n",
    "backer_id = person.find(\"Name_per\").text\n",
    "\n",
    "\n",
    "year_of_ceation = int(person.find(\"year\").text)\n",
    "\n",
    "\n",
    "email_id = float(person.find(\"Email_data\").text)\n",
    "\n",
    "\n",
    "datetime = person.find(\"date_creattion\").text"
   ]
  },
  {
   "cell_type": "code",
   "execution_count": null,
   "id": "160c42ae",
   "metadata": {},
   "outputs": [],
   "source": [
    "dataframe = dataframe.append({\"car_model\":backer_id, \"Name_per\":year_of_ceation, \"year\":email_id, \"Email_datae\":datetime}, ignore_index=True)"
   ]
  },
  {
   "cell_type": "code",
   "execution_count": null,
   "id": "160ab835",
   "metadata": {},
   "outputs": [],
   "source": [
    "return dataframe\n",
    "\n",
    "\n",
    "\n",
    "    def extract():\n",
    "\n",
    "        extracted_data = pd.DataFrame(columns=['car_model', 'year_of_manufacture', 'price', 'fuel'])\n",
    "\n",
    "        # for csv files"
   ]
  },
  {
   "cell_type": "code",
   "execution_count": null,
   "id": "45b3c5e3",
   "metadata": {},
   "outputs": [],
   "source": [
    "for csvfile in glob.glob(\"dealership_data/*.csv\"):\n",
    "\n",
    "        extracted_data = extracted_data.append(extract_from_csv(csvfile), ignore_index=True)\n",
    "\n",
    "        # for json files"
   ]
  },
  {
   "cell_type": "code",
   "execution_count": null,
   "id": "a57a2b3e",
   "metadata": {},
   "outputs": [],
   "source": [
    "for jsonfile in glob.glob(\"dealership_data/*.json\"):\n",
    "\n",
    "        extracted_data = extracted_data.append(extract_from_json(jsonfile), ignore_index=True)\n",
    "\n",
    "        # for xml files"
   ]
  },
  {
   "cell_type": "code",
   "execution_count": null,
   "id": "be1bd9af",
   "metadata": {},
   "outputs": [],
   "source": [
    "for xmlfile in glob.glob(\"dealership_data/*.xml\"):\n",
    "\n",
    "        extracted_data = extracted_data.append(extract_from_xml(xmlfile), ignore_index=True)\n",
    "\n",
    "    return extracted_data"
   ]
  },
  {
   "cell_type": "code",
   "execution_count": null,
   "id": "4f20f3b0",
   "metadata": {},
   "outputs": [],
   "source": [
    "def transform(data):\n",
    "\n",
    "    data['price'] = round(data.price, 2)\n",
    "\n",
    "    return data"
   ]
  },
  {
   "cell_type": "code",
   "execution_count": null,
   "id": "7fe00f6e",
   "metadata": {},
   "outputs": [],
   "source": [
    "def load(targetfile,data_to_load):\n",
    "\n",
    "    data_to_load.to_csv(targetfile)"
   ]
  },
  {
   "cell_type": "code",
   "execution_count": null,
   "id": "5a1ee3b2",
   "metadata": {},
   "outputs": [],
   "source": [
    "def log(message):\n",
    "\n",
    "        timestamp_format = '%H:%M:%S-%h-%d-%Y'\n",
    "\n",
    "        # Hour-Minute-Second-MonthName-Day-Year\n",
    "\n",
    "        now = datetime.now()  # get current timestamp\n",
    "\n",
    "        timestamp = now.strftime(timestamp_format)\n",
    "\n",
    "        with open(\"dealership_logfile.txt\", \"a\") as f: f.write(timestamp + ',' + message + 'n')\n",
    "\n",
    "        log(\"ETL Job Started\")\n",
    "\n",
    "        log(\"Extract phase Started\")\n",
    "\n",
    "        extracted_data = extract()\n",
    "\n",
    "        log(\"Extract phase Ended\")\n",
    "\n",
    "        log(“Transform\n",
    "\n",
    "        phase\n",
    "\n",
    "        Started”)\n",
    "\n",
    "        transformed_data = transform(extracted_data)\n",
    "\n",
    "        log(\"Transform phase Ended\")\n",
    "\n",
    "        log(\"Load phase Started\")\n",
    "\n",
    "        load(targetfile, transformed_data)\n",
    "\n",
    "        log(\"Load phase Ended\")\n",
    "\n",
    "        log(\"ETL Job Ended\")"
   ]
  }
 ],
 "metadata": {
  "kernelspec": {
   "display_name": "Python 3 (ipykernel)",
   "language": "python",
   "name": "python3"
  }
 },
 "nbformat": 4,
 "nbformat_minor": 5
}
