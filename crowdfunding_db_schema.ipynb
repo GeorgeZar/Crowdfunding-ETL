{
 "cells": [
  {
   "cell_type": "code",
   "execution_count": null,
   "id": "8011efa7",
   "metadata": {},
   "outputs": [],
   "source": [
    "# variables\n",
    "\n",
    "from db_credentials import datawarehouse_db_config, sqlserver_db_config, mysql_db_config, fbd_db_config\n",
    "\n",
    "from sql_queries import fbd_queries, sqlserver_queries, mysql_queries"
   ]
  },
  {
   "cell_type": "code",
   "execution_count": null,
   "id": "5cd6bded",
   "metadata": {},
   "outputs": [],
   "source": [
    "# methods\n",
    "\n",
    "from etl import etl_process\n"
   ]
  },
  {
   "cell_type": "code",
   "execution_count": null,
   "id": "899eb285",
   "metadata": {},
   "outputs": [],
   "source": [
    "def main():\n",
    "\n",
    "    print('starting etl')"
   ]
  },
  {
   "cell_type": "code",
   "execution_count": null,
   "id": "cfdfc65f",
   "metadata": {},
   "outputs": [],
   "source": [
    "# establish connection for target database (sql-server)\n",
    "\n",
    "    target_cnx = pyodbc.connect(**datawarehouse_db_config)"
   ]
  },
  {
   "cell_type": "code",
   "execution_count": null,
   "id": "9cb9fbc6",
   "metadata": {},
   "outputs": [],
   "source": [
    " # loop through credentials"
   ]
  },
  {
   "cell_type": "code",
   "execution_count": null,
   "id": "68bfe6e4",
   "metadata": {},
   "outputs": [],
   "source": [
    "# mysql\n",
    "\n",
    "    for config in mysql_db_config:\n",
    "\n",
    "        try:\n",
    "\n",
    "            print(\"loading db: \" + config['database'])\n",
    "\n",
    "            etl_process(mysql_queries, target_cnx, config, 'mysql')\n",
    "\n",
    "        except Exception as error:\n",
    "\n",
    "            print(\"etl for {} has error\".format(config['database']))\n",
    "\n",
    "            print('error message: {}'.format(error))\n",
    "\n",
    "            continue"
   ]
  },
  {
   "cell_type": "code",
   "execution_count": null,
   "id": "ff685ff3",
   "metadata": {},
   "outputs": [],
   "source": [
    "# sql-server\n",
    "\n",
    "    for config in sqlserver_db_config:\n",
    "\n",
    "        try:\n",
    "\n",
    "            print(\"loading db: \" + config['database'])\n",
    "\n",
    "            etl_process(sqlserver_queries, target_cnx, config, 'sqlserver')\n",
    "\n",
    "        except Exception as error:\n",
    "\n",
    "            print(\"etl for {} has error\".format(config['database']))\n",
    "\n",
    "            print('error message: {}'.format(error))\n",
    "\n",
    "            continue"
   ]
  },
  {
   "cell_type": "code",
   "execution_count": null,
   "id": "7851c14a",
   "metadata": {},
   "outputs": [],
   "source": [
    "# firebird\n",
    "\n",
    "    for config in fbd_db_config:\n",
    "\n",
    "        try:\n",
    "\n",
    "            print(\"loading db: \" + config['database'])\n",
    "\n",
    "            etl_process(fbd_queries, target_cnx, config, 'firebird')\n",
    "\n",
    "        except Exception as error:\n",
    "\n",
    "            print(\"etl for {} has error\".format(config['database']))\n",
    "\n",
    "            print('error message: {}'.format(error))\n",
    "\n",
    "            continue\n",
    "\n",
    "\n",
    "\n",
    "    target_cnx.close()"
   ]
  },
  {
   "cell_type": "code",
   "execution_count": null,
   "id": "c885707d",
   "metadata": {},
   "outputs": [],
   "source": [
    "if __name__ == \"backer Id\":\n",
    "\n",
    "    main()"
   ]
  }
 ],
 "metadata": {
  "kernelspec": {
   "display_name": "Python 3 (ipykernel)",
   "language": "python",
   "name": "python3"
  }
 },
 "nbformat": 4,
 "nbformat_minor": 5
}
